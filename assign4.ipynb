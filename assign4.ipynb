{
 "cells": [
  {
   "cell_type": "code",
   "execution_count": 1,
   "metadata": {},
   "outputs": [],
   "source": [
    "import numpy as np\n",
    "import matplotlib.pyplot as plt\n",
    "from Library.Random import*"
   ]
  },
  {
   "cell_type": "markdown",
   "metadata": {},
   "source": [
    "# Q.1"
   ]
  },
  {
   "cell_type": "markdown",
   "metadata": {},
   "source": [
    "# <h3> Generate random numbers in range [0,1] using multiplicative linear congruential generator defined by $x_n = (a x_n−1)\\%m$ using \n",
    "# <h3>  (i) a = 65, m = 1021 and (ii) a = 572, m = 16381."
   ]
  },
  {
   "cell_type": "code",
   "execution_count": 2,
   "metadata": {},
   "outputs": [
    {
     "name": "stdout",
     "output_type": "stream",
     "text": [
      "The random number generated using LCG with a = 65, m = 1021 is [0.63663075 0.38099902 0.76493634 0.7208619  0.85602351 0.64152791\n",
      " 0.6993144  0.45543585 0.60333007 0.21645446]\n",
      "\n",
      "The random number generated using LCG with a = 572, m = 16381 is [0.34918503 0.73383798 0.75532629 0.0466394  0.6777364  0.6652219\n",
      " 0.50692876 0.96325011 0.97906111 0.02295342]\n"
     ]
    }
   ],
   "source": [
    "#find the random number using LCG\n",
    "a1, m1, a2, m2 = 65, 1021, 572, 16381\n",
    "x1 = lcg(seed=10,a = a1, c = 0, n = 10, m = m1)\n",
    "x2 = lcg(seed=10, a = a2, c = 0, n =10, m = m2)\n",
    "print(f\"The random number generated using LCG with a = {a1}, m = {m1} is\", np.array(x1))\n",
    "print()\n",
    "print(f\"The random number generated using LCG with a = {a2}, m = {m2} is\", np.array(x2))"
   ]
  },
  {
   "cell_type": "markdown",
   "metadata": {},
   "source": [
    "# Q.2"
   ]
  },
  {
   "cell_type": "code",
   "execution_count": 16,
   "metadata": {},
   "outputs": [
    {
     "name": "stdout",
     "output_type": "stream",
     "text": [
      "The value of the integral is 2.0020126234890574\n"
     ]
    }
   ],
   "source": [
    "a = monte_carlo_integration(a = -np.pi/2, b = np.pi/2, n = 10000, seed = 10, a_lcg = a1, c_lcg = 0, m_lcg = m1)\n",
    "print(f\"The value of the integral is {a}\")\n",
    "\n",
    "#doing integration suing scipy of cos(x) from -pi to pi\n",
    "# from scipy.integrate import quad\n",
    "# f = lambda x: np.cos(x)\n",
    "# integral, error = quad(f, -np.pi/2, np.pi/2)\n",
    "# print(f\"The value of the integral using scipy is {integral}\")"
   ]
  },
  {
   "cell_type": "markdown",
   "metadata": {},
   "source": [
    "# Q.3"
   ]
  },
  {
   "cell_type": "markdown",
   "metadata": {},
   "source": [
    "# Q.4"
   ]
  }
 ],
 "metadata": {
  "kernelspec": {
   "display_name": "Python 3",
   "language": "python",
   "name": "python3"
  },
  "language_info": {
   "codemirror_mode": {
    "name": "ipython",
    "version": 3
   },
   "file_extension": ".py",
   "mimetype": "text/x-python",
   "name": "python",
   "nbconvert_exporter": "python",
   "pygments_lexer": "ipython3",
   "version": "3.10.12"
  }
 },
 "nbformat": 4,
 "nbformat_minor": 2
}
