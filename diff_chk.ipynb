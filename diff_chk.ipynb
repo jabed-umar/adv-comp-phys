{
 "cells": [
  {
   "cell_type": "code",
   "execution_count": 9,
   "metadata": {},
   "outputs": [],
   "source": [
    "import numpy as np\n",
    "import math\n",
    "import matplotlib.pyplot as plt\n",
    "from mpl_toolkits.mplot3d import Axes3D\n",
    "from Library.Integration import*\n",
    "from Library.Root import*\n",
    "from Library.Diff_eqn import*\n",
    "import pandas as pd\n",
    "import prettytable as pt"
   ]
  },
  {
   "cell_type": "code",
   "execution_count": 10,
   "metadata": {},
   "outputs": [],
   "source": [
    "def poisson_laplace(rho, x_i, x_f, y_i, y_f, u_iy, u_fy, u_xi, u_xf, N, tolerance):\n",
    "    '''\n",
    "    Parameters:\n",
    "    - rho: Function rho(x,y) del^2 u = -rho(x,y)\n",
    "    - x_i: Initial x value\n",
    "    - x_f: Final x value\n",
    "    - y_i: Initial y value\n",
    "    - y_f: Final y value\n",
    "    - u_iy: Function u_iy(x)\n",
    "    - u_fy: Function u_fy(x)\n",
    "    '''\n",
    "    '''\n",
    "    defining the grid N+2 x N+2\n",
    "    '''\n",
    "    x = np.linspace(x_i, x_f, N+2)\n",
    "    y = np.linspace(y_i, y_f, N+2)\n",
    "    hx = (x_f - x_i) / (N + 1)\n",
    "    hy = (y_f - y_i) / (N + 1)\n",
    "    if hx != hy:\n",
    "        raise ValueError(\"The grid is not square\")\n",
    "    h = hx \n",
    "    A = np.zeros((N*2, N*2))\n",
    "    '''\n",
    "    Defining the matrix A\n",
    "    '''\n",
    "    for i in range(N**2):\n",
    "        A[i, i] = 4\n",
    "        if i == 0:\n",
    "            A[i, i+1] = -1\n",
    "            A[i, i+N] = -1\n",
    "        elif i < N:\n",
    "            A[i, i-1] = -1\n",
    "            A[i, i+1] = -1\n",
    "            A[i, i+N] = -1\n",
    "        elif i < (N**2 - N):\n",
    "            A[i, i-1] = -1\n",
    "            A[i, i+1] = -1\n",
    "            A[i, i-N] = -1\n",
    "            A[i, i+N] = -1\n",
    "        elif i < (N**2 - 1):\n",
    "            A[i, i-1] = -1\n",
    "            A[i, i+1] = -1\n",
    "            A[i, i-N] = -1\n",
    "        else:\n",
    "            A[i, i-1] = -1\n",
    "            A[i, i-N] = -1\n",
    "    '''\n",
    "    Defining the matrix B\n",
    "    '''\n",
    "    B = []\n",
    "    for i in range(1,N+1):\n",
    "        for j in range(1,N+1):\n",
    "            sum = rho(x[i], y[j]) * h**2\n",
    "            if i == 0:\n",
    "                sum += u_xi(y[j])\n",
    "            if i == N:\n",
    "                sum += u_xf(y[j])\n",
    "            if j == 0:\n",
    "                sum += u_iy(x[i])\n",
    "            if j == N:\n",
    "                sum += u_fy(x[i])\n",
    "            B.append(sum)    \n",
    "    B = np.array(B)[:,None]\n",
    "    # solving the system of linear equations\n",
    "    # u = lib.solve_GS(A, B, tolerance)\n",
    "    u = np.linalg.solve(A, B)\n",
    "    u = np.array(u).reshape((N,N))\n",
    "    u = np.append(u_iy(y[1:-1,None]), u, axis = 1)\n",
    "    u = np.append(u, u_fy(y[1:-1, None]), axis = 1)\n",
    "    u = np.append([u_xi(x)], u, axis = 0)\n",
    "    u = np.append(u, [u_xf(x)], axis = 0)\n",
    "    \n",
    "    return x, y, u"
   ]
  },
  {
   "cell_type": "code",
   "execution_count": 11,
   "metadata": {},
   "outputs": [
    {
     "ename": "IndexError",
     "evalue": "index 12 is out of bounds for axis 1 with size 12",
     "output_type": "error",
     "traceback": [
      "\u001b[0;31m---------------------------------------------------------------------------\u001b[0m",
      "\u001b[0;31mIndexError\u001b[0m                                Traceback (most recent call last)",
      "Cell \u001b[0;32mIn[11], line 21\u001b[0m\n\u001b[1;32m     18\u001b[0m y_f \u001b[38;5;241m=\u001b[39m \u001b[38;5;241m2\u001b[39m\n\u001b[1;32m     19\u001b[0m tolerance \u001b[38;5;241m=\u001b[39m \u001b[38;5;241m1e-6\u001b[39m\n\u001b[0;32m---> 21\u001b[0m x, y, u \u001b[38;5;241m=\u001b[39m \u001b[43mpoisson_laplace\u001b[49m\u001b[43m(\u001b[49m\u001b[43mrho\u001b[49m\u001b[43m,\u001b[49m\u001b[43m \u001b[49m\u001b[43mx_i\u001b[49m\u001b[43m,\u001b[49m\u001b[43m \u001b[49m\u001b[43mx_f\u001b[49m\u001b[43m,\u001b[49m\u001b[43m \u001b[49m\u001b[43my_i\u001b[49m\u001b[43m,\u001b[49m\u001b[43m \u001b[49m\u001b[43my_f\u001b[49m\u001b[43m,\u001b[49m\u001b[43m \u001b[49m\u001b[43mu_iy\u001b[49m\u001b[43m,\u001b[49m\u001b[43m \u001b[49m\u001b[43mu_fy\u001b[49m\u001b[43m,\u001b[49m\u001b[43m \u001b[49m\u001b[43mu_xi\u001b[49m\u001b[43m,\u001b[49m\u001b[43m \u001b[49m\u001b[43mu_xf\u001b[49m\u001b[43m,\u001b[49m\u001b[43m \u001b[49m\u001b[43mgrid_size\u001b[49m\u001b[43m,\u001b[49m\u001b[43m \u001b[49m\u001b[43mtolerance\u001b[49m\u001b[38;5;241;43m=\u001b[39;49m\u001b[43mtolerance\u001b[49m\u001b[43m)\u001b[49m\n",
      "Cell \u001b[0;32mIn[10], line 39\u001b[0m, in \u001b[0;36mpoisson_laplace\u001b[0;34m(rho, x_i, x_f, y_i, y_f, u_iy, u_fy, u_xi, u_xf, N, tolerance)\u001b[0m\n\u001b[1;32m     37\u001b[0m     A[i, i\u001b[38;5;241m+\u001b[39m\u001b[38;5;241m1\u001b[39m] \u001b[38;5;241m=\u001b[39m \u001b[38;5;241m-\u001b[39m\u001b[38;5;241m1\u001b[39m\n\u001b[1;32m     38\u001b[0m     A[i, i\u001b[38;5;241m-\u001b[39mN] \u001b[38;5;241m=\u001b[39m \u001b[38;5;241m-\u001b[39m\u001b[38;5;241m1\u001b[39m\n\u001b[0;32m---> 39\u001b[0m     A[i, i\u001b[38;5;241m+\u001b[39mN] \u001b[38;5;241m=\u001b[39m \u001b[38;5;241m-\u001b[39m\u001b[38;5;241m1\u001b[39m\n\u001b[1;32m     40\u001b[0m \u001b[38;5;28;01melif\u001b[39;00m i \u001b[38;5;241m<\u001b[39m (N\u001b[38;5;241m*\u001b[39m\u001b[38;5;241m*\u001b[39m\u001b[38;5;241m2\u001b[39m \u001b[38;5;241m-\u001b[39m \u001b[38;5;241m1\u001b[39m):\n\u001b[1;32m     41\u001b[0m     A[i, i\u001b[38;5;241m-\u001b[39m\u001b[38;5;241m1\u001b[39m] \u001b[38;5;241m=\u001b[39m \u001b[38;5;241m-\u001b[39m\u001b[38;5;241m1\u001b[39m\n",
      "\u001b[0;31mIndexError\u001b[0m: index 12 is out of bounds for axis 1 with size 12"
     ]
    }
   ],
   "source": [
    "def rho(x, y): \n",
    "    return x * np.exp(y)\n",
    "def u_iy(y):\n",
    "    return np.zeros(y.shape)\n",
    "def u_fy(y):\n",
    "    return 2 * np.exp(y)\n",
    "def u_xi(x):\n",
    "    return x\n",
    "def u_xf(x):\n",
    "    return x * np.e\n",
    "'''\n",
    "Defining the limits and Number of subintervals and other parameters as per the Question\n",
    "'''\n",
    "grid_size = 6\n",
    "x_i = 0\n",
    "x_f = 2\n",
    "y_i = 0\n",
    "y_f = 2\n",
    "tolerance = 1e-6\n",
    "\n",
    "x, y, u = poisson_laplace(rho, x_i, x_f, y_i, y_f, u_iy, u_fy, u_xi, u_xf, grid_size, tolerance=tolerance)"
   ]
  },
  {
   "cell_type": "code",
   "execution_count": null,
   "metadata": {},
   "outputs": [
    {
     "name": "stdout",
     "output_type": "stream",
     "text": [
      "OUTPUT\n",
      "------\n",
      "The solution of the given Poisson , u(x,y), found with grid size 6 is as follows:\n"
     ]
    },
    {
     "ename": "NameError",
     "evalue": "name 'x' is not defined",
     "output_type": "error",
     "traceback": [
      "\u001b[0;31m---------------------------------------------------------------------------\u001b[0m",
      "\u001b[0;31mNameError\u001b[0m                                 Traceback (most recent call last)",
      "Cell \u001b[0;32mIn[5], line 4\u001b[0m\n\u001b[1;32m      2\u001b[0m \u001b[38;5;28mprint\u001b[39m(\u001b[38;5;124mf\u001b[39m\u001b[38;5;124m\"\u001b[39m\u001b[38;5;124mThe solution of the given Poisson , u(x,y), found with grid size \u001b[39m\u001b[38;5;132;01m{\u001b[39;00mgrid_size\u001b[38;5;132;01m}\u001b[39;00m\u001b[38;5;124m is as follows:\u001b[39m\u001b[38;5;124m\"\u001b[39m)\n\u001b[1;32m      3\u001b[0m table4 \u001b[38;5;241m=\u001b[39m pt\u001b[38;5;241m.\u001b[39mPrettyTable()\n\u001b[0;32m----> 4\u001b[0m table4\u001b[38;5;241m.\u001b[39mfield_names \u001b[38;5;241m=\u001b[39m [\u001b[38;5;124m\"\u001b[39m\u001b[38;5;124my\u001b[39m\u001b[38;5;124m\"\u001b[39m] \u001b[38;5;241m+\u001b[39m [\u001b[38;5;124mf\u001b[39m\u001b[38;5;124m\"\u001b[39m\u001b[38;5;132;01m{\u001b[39;00mx[i]\u001b[38;5;132;01m:\u001b[39;00m\u001b[38;5;124m.2f\u001b[39m\u001b[38;5;132;01m}\u001b[39;00m\u001b[38;5;124m\"\u001b[39m \u001b[38;5;28;01mfor\u001b[39;00m i \u001b[38;5;129;01min\u001b[39;00m \u001b[38;5;28mrange\u001b[39m(\u001b[38;5;28mlen\u001b[39m(\u001b[43mx\u001b[49m))]\n\u001b[1;32m      5\u001b[0m \u001b[38;5;28;01mfor\u001b[39;00m i \u001b[38;5;129;01min\u001b[39;00m \u001b[38;5;28mrange\u001b[39m(\u001b[38;5;28mlen\u001b[39m(y)):\n\u001b[1;32m      6\u001b[0m     row \u001b[38;5;241m=\u001b[39m [\u001b[38;5;124mf\u001b[39m\u001b[38;5;124m\"\u001b[39m\u001b[38;5;132;01m{\u001b[39;00my[i]\u001b[38;5;132;01m:\u001b[39;00m\u001b[38;5;124m.2f\u001b[39m\u001b[38;5;132;01m}\u001b[39;00m\u001b[38;5;124m\"\u001b[39m]\n",
      "\u001b[0;31mNameError\u001b[0m: name 'x' is not defined"
     ]
    }
   ],
   "source": [
    "print(f\"OUTPUT\\n------\")\n",
    "print(f\"The solution of the given Poisson , u(x,y), found with grid size {grid_size} is as follows:\")\n",
    "table4 = pt.PrettyTable()\n",
    "table4.field_names = [\"y\"] + [f\"{x[i]:.2f}\" for i in range(len(x))]\n",
    "for i in range(len(y)):\n",
    "    row = [f\"{y[i]:.2f}\"]\n",
    "    for j in range(len(x)):\n",
    "        row.append(f\"{u[i,j]:.6f}\")\n",
    "    table4.add_row(row)\n",
    "print(table4)\n",
    "\n",
    "# plotting the solution\n",
    "\n",
    "import matplotlib.pyplot as plt\n",
    "\n",
    "fig = plt.figure(figsize=(10, 6))\n",
    "ax = fig.add_subplot(111, projection='3d')\n",
    "X, Y = np.meshgrid(x, y)\n",
    "surf = ax.plot_surface(X, Y, u, cmap='viridis')\n",
    "ax.set_xlabel('x')\n",
    "ax.set_ylabel('y')\n",
    "ax.set_zlabel('u(x, y)')\n",
    "ax.set_title(\"Solution of the given Poisson equation\")\n",
    "fig.colorbar(surf)\n",
    "plt.show()"
   ]
  }
 ],
 "metadata": {
  "kernelspec": {
   "display_name": "py39",
   "language": "python",
   "name": "python3"
  },
  "language_info": {
   "codemirror_mode": {
    "name": "ipython",
    "version": 3
   },
   "file_extension": ".py",
   "mimetype": "text/x-python",
   "name": "python",
   "nbconvert_exporter": "python",
   "pygments_lexer": "ipython3",
   "version": "3.9.18"
  }
 },
 "nbformat": 4,
 "nbformat_minor": 2
}
