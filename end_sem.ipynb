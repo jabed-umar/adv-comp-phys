{
 "cells": [
  {
   "cell_type": "markdown",
   "metadata": {},
   "source": [
    "# Name : Jabed Umar \n",
    "# Roll no : 2011072"
   ]
  },
  {
   "cell_type": "code",
   "execution_count": 1,
   "metadata": {},
   "outputs": [],
   "source": [
    "import numpy as np\n",
    "import matplotlib.pyplot as plt\n",
    "from Library.End import*\n",
    "# from Library.Lin_alg import*\n",
    "from tqdm import trange"
   ]
  },
  {
   "cell_type": "markdown",
   "metadata": {},
   "source": [
    "# Q.1"
   ]
  },
  {
   "cell_type": "code",
   "execution_count": 2,
   "metadata": {},
   "outputs": [
    {
     "name": "stdout",
     "output_type": "stream",
     "text": [
      "Decay constant: -0.00908776483462688 ± 0.001400752632869854\n",
      "Chi-squared value: 15.372761711005207\n",
      "Critical chi-squared value: 15.50168324144394\n",
      "Fit acceptable at 5% significance level: True\n"
     ]
    }
   ],
   "source": [
    "import numpy as np\n",
    "from scipy.optimize import curve_fit\n",
    "\n",
    "# Load data from file\n",
    "data = np.loadtxt('endsemfit.txt')\n",
    "\n",
    "# Extract time, natural log of counts, and uncertainties\n",
    "time = data[:, 0]\n",
    "ln_counts = np.log(data[:, 1])\n",
    "sigma_ln_counts = 1 / np.sqrt(data[:, 1])\n",
    "\n",
    "# Define the linear function for decay\n",
    "def decay_function(t, decay_constant, intercept):\n",
    "    return decay_constant * t + intercept\n",
    "\n",
    "# Perform curve fitting using scipy.optimize.curve_fit\n",
    "popt, pcov = curve_fit(decay_function, time, ln_counts, sigma=sigma_ln_counts)\n",
    "\n",
    "# Extract decay constant and intercept\n",
    "decay_constant, intercept = popt\n",
    "decay_constant_error = np.sqrt(np.diag(pcov))[0]\n",
    "\n",
    "# Calculate chi-squared value\n",
    "chi_squared = np.sum(((ln_counts - decay_function(time, decay_constant, intercept)) / sigma_ln_counts)**2)\n",
    "\n",
    "# Degrees of freedom\n",
    "degrees_of_freedom = len(time) - 2  # Two parameters in the linear regression\n",
    "\n",
    "# Critical chi-squared value at 5% significance level\n",
    "critical_chi_squared = np.percentile(\n",
    "    np.random.chisquare(df=degrees_of_freedom, size=100000), 95\n",
    ")\n",
    "\n",
    "# Compare chi-squared value with critical value\n",
    "fit_acceptable = chi_squared < critical_chi_squared\n",
    "\n",
    "print(f\"Decay constant: {decay_constant} ± {decay_constant_error}\")\n",
    "print(f\"Chi-squared value: {chi_squared}\")\n",
    "print(f\"Critical chi-squared value: {critical_chi_squared}\")\n",
    "print(f\"Fit acceptable at 5% significance level: {fit_acceptable}\")"
   ]
  },
  {
   "cell_type": "markdown",
   "metadata": {},
   "source": [
    "# Q.2"
   ]
  },
  {
   "cell_type": "code",
   "execution_count": 3,
   "metadata": {},
   "outputs": [],
   "source": [
    "#defining the trancted number function\n",
    "def truncated_number(x, n):\n",
    "    return int(x*10**n)/10**n"
   ]
  },
  {
   "cell_type": "code",
   "execution_count": 4,
   "metadata": {},
   "outputs": [],
   "source": [
    "#defining the van der waals equation\n",
    "def van_der_waals(x):\n",
    "    return 5.95*x**3 - (5.95*0.05422 + 0.0821*300)*x**2 + 6.254*x - 6.254*0.05422"
   ]
  },
  {
   "cell_type": "code",
   "execution_count": 5,
   "metadata": {},
   "outputs": [],
   "source": [
    "# R = RootFindings(van_der_waals, 0, 0.18, 0.00001,1000)\n",
    "# #find the interval of the root\n",
    "# R.bracket(5,1.5)"
   ]
  },
  {
   "cell_type": "code",
   "execution_count": 6,
   "metadata": {},
   "outputs": [
    {
     "name": "stdout",
     "output_type": "stream",
     "text": [
      "The root of the first function is:  0.07811\n",
      "\n",
      "The root of the second function is:  0.18568\n"
     ]
    }
   ],
   "source": [
    "P = 5.95\n",
    "a = 6.254\n",
    "b = 0.05422\n",
    "R = 0.0821\n",
    "T = 300\n",
    "#define the functions\n",
    "f1 = lambda x: R*T/(P + a/x**2) + b\n",
    "f2 = lambda x: np.sqrt(a*(x-b)/(R*T - P*(x-b)))\n",
    "\n",
    "#compute the fixed point iteration\n",
    "root1 = fixed_point_iteration(f1, 0.1, max_it=100, tolerance=1e-5)\n",
    "print(\"The root of the first function is: \", truncated_number(root1, 5))\n",
    "print()\n",
    "root2 = fixed_point_iteration(f2, 0.5, max_it=100, tolerance=1e-5)\n",
    "print(\"The root of the second function is: \", truncated_number(root2, 5))"
   ]
  },
  {
   "cell_type": "markdown",
   "metadata": {},
   "source": [
    "# Q.5"
   ]
  },
  {
   "cell_type": "code",
   "execution_count": 7,
   "metadata": {},
   "outputs": [
    {
     "name": "stdout",
     "output_type": "stream",
     "text": [
      "Eigenvalues: [3.732050807568877, 3.0]\n"
     ]
    }
   ],
   "source": [
    "# Given matrix \n",
    "A = np.loadtxt(\"endsemmat.txt\")\n",
    "num_iterations = 100\n",
    "eigenvalues = []\n",
    "eigenvectors = []\n",
    "\n",
    "#2 largest eigenvalues using power iteration\n",
    "for _ in range(2):\n",
    "    eigenvalue, eigenvector = Power_iteration(A, num_iterations)\n",
    "    eigenvalues.append(eigenvalue)\n",
    "    eigenvectors.append(eigenvector)\n",
    "    A = A - eigenvalue * np.outer(eigenvector, eigenvector)\n",
    "\n",
    "print(\"Eigenvalues:\", eigenvalues)"
   ]
  },
  {
   "cell_type": "code",
   "execution_count": 8,
   "metadata": {},
   "outputs": [
    {
     "name": "stdout",
     "output_type": "stream",
     "text": [
      "Eigenvector 1: [-0.28867513  0.5        -0.57735027  0.5        -0.28867514]\n",
      "Eigenvector 2: [ 5.00000000e-01 -5.00000001e-01  9.53210439e-10  4.99999999e-01\n",
      " -5.00000000e-01]\n"
     ]
    }
   ],
   "source": [
    "# eigenvectors of the corresponding eigenvalues\n",
    "for i, eigenvector in enumerate(eigenvectors):\n",
    "    print(f\"Eigenvector {i+1}:\", eigenvector)"
   ]
  },
  {
   "cell_type": "code",
   "execution_count": 9,
   "metadata": {},
   "outputs": [
    {
     "name": "stdout",
     "output_type": "stream",
     "text": [
      "The eigenvalues are:  [3.73205081 3.        ]\n"
     ]
    }
   ],
   "source": [
    "# Verify the given eigenvalues\n",
    "a, b, c, n = -1, 2, -1, 5\n",
    "L_1 = b + 2*np.sqrt(a*c)*np.cos(np.pi*1/(n+1))\n",
    "L_2 = b + 2*np.sqrt(a*c)*np.cos(np.pi*2/(n+1))\n",
    "print(\"The eigenvalues are: \", np.array([L_1, L_2]))"
   ]
  },
  {
   "cell_type": "code",
   "execution_count": 10,
   "metadata": {},
   "outputs": [
    {
     "name": "stdout",
     "output_type": "stream",
     "text": [
      "The eigenvectors are:  [[ 2.88675135e-01  5.00000000e-01  5.77350269e-01  5.00000000e-01\n",
      "   2.88675135e-01]\n",
      " [ 5.00000000e-01  5.00000000e-01  7.07050159e-17 -5.00000000e-01\n",
      "  -5.00000000e-01]]\n"
     ]
    }
   ],
   "source": [
    "#verify the given eigenvectors\n",
    "v_1 = np.array([2*np.sqrt(c/a)*np.sin(np.pi*i/(n+1)) for i in range(1,n+1)])\n",
    "#normalize the eigenvector v1\n",
    "v_1 = v_1/np.linalg.norm(v_1)\n",
    "v_2 = np.array([2*np.sqrt(c/a)**2*np.sin(2*np.pi*i/(n+1)) for i in range(1,n+1)])\n",
    "#normalize the eigenvector v1\n",
    "v_2 = v_2/np.linalg.norm(v_2)\n",
    "print(\"The eigenvectors are: \", np.array([v_1, v_2]))"
   ]
  },
  {
   "cell_type": "markdown",
   "metadata": {},
   "source": [
    "# Q.6"
   ]
  },
  {
   "cell_type": "code",
   "execution_count": 11,
   "metadata": {},
   "outputs": [
    {
     "name": "stdout",
     "output_type": "stream",
     "text": [
      "Acceptance rate: 81.38%\n"
     ]
    },
    {
     "data": {
      "text/plain": [
       "<matplotlib.legend.Legend at 0x71b50b131ca0>"
      ]
     },
     "execution_count": 11,
     "metadata": {},
     "output_type": "execute_result"
    },
    {
     "data": {
      "image/png": "[encoded data removed]",
      "text/plain": [
       "<Figure size 640x480 with 1 Axes>"
      ]
     },
     "metadata": {},
     "output_type": "display_data"
    }
   ],
   "source": [
    "#The no of points\n",
    "N = int(1e7)\n",
    "a = 2\n",
    "#standard deviation of g(x) distribution\n",
    "g_std = 1.3\n",
    "# define the functions\n",
    "f = lambda x: 0.5 * (a**2 - x**2)\n",
    "g = lambda x: np.exp(-x**2/(2*g_std**2)) * 0.5 * a**2\n",
    "#scaling factor is there to make g(x) more than f(x) for all x\n",
    "\n",
    "np.random.seed(15)  #choosing a seed\n",
    "u = np.random.randn(N)*g_std  # generate N samples from g(x)\n",
    "p = np.random.rand(N) # generate N samples from uniform distribution\n",
    "\n",
    "#check if the samples are accepted or rejected\n",
    "x = u[p < f(u)/g(u)] \n",
    "\n",
    "n = len(x)  # count accepted samples\n",
    "\n",
    "print(f\"Acceptance rate: {n*100/N:.2f}%\")\n",
    "\n",
    "a = plt.hist(x, bins=150,  edgecolor=\"k\",label='Generated samples')\n",
    "plt.plot(a[1][1:], a[0], 'r', label='f(x)')\n",
    "plt.xlabel('values')\n",
    "plt.ylabel('Frequency')\n",
    "plt.legend()"
   ]
  },
  {
   "cell_type": "markdown",
   "metadata": {},
   "source": [
    "# Q.7"
   ]
  },
  {
   "cell_type": "code",
   "execution_count": 12,
   "metadata": {},
   "outputs": [
    {
     "data": {
      "text/plain": [
       "Text(0, 0.5, 'Energy')"
      ]
     },
     "execution_count": 12,
     "metadata": {},
     "output_type": "execute_result"
    },
    {
     "data": {
      "image/png": "[encoded data removed]",
      "text/plain": [
       "<Figure size 640x480 with 1 Axes>"
      ]
     },
     "metadata": {},
     "output_type": "display_data"
    }
   ],
   "source": [
    "# variational method to solve the Harmonic Oscillator\n",
    "# set the sampiling points\n",
    "num_samples = int(1e5)\n",
    "\n",
    "#set the values of alpha (a)\n",
    "alphas = np.linspace(1, 4, 1000)\n",
    "#initialize the array to store the energy values\n",
    "ys = np.zeros_like(alphas)\n",
    "\n",
    "#compute the energy values for each alpha\n",
    "for i, alpha in enumerate(alphas):\n",
    "    rands = get_rng_random(alpha, num_samples)\n",
    "    eps = lambda x: 0.5*x**2 + 2/(alpha**2-x**2)\n",
    "    integral = np.mean(eps(rands))\n",
    "    ys[i] = integral\n",
    "\n",
    "plt.plot(alphas, ys, \".-\", color=\"black\")\n",
    "plt.xlabel('a') \n",
    "plt.ylabel('Energy')"
   ]
  },
  {
   "cell_type": "code",
   "execution_count": 13,
   "metadata": {},
   "outputs": [
    {
     "name": "stdout",
     "output_type": "stream",
     "text": [
      "Optimal a is : 2.3393\n",
      "Minimum energy is: 1.0950\n"
     ]
    }
   ],
   "source": [
    "optimal_alpha = np.argmin(ys)\n",
    "print(f\"Optimal a is : {alphas[optimal_alpha]:.4f}\")\n",
    "print(f\"Minimum energy is: {ys[optimal_alpha]:.4f}\")"
   ]
  },
  {
   "cell_type": "markdown",
   "metadata": {},
   "source": [
    "# <h4> We know that the ground state energy of the Harmonic Oscillator is 0.5 (in atomic unit). But we are getting 1.1146. This is because we are using the variational method to compute the energy and the trial wave function we are using is not the exact wave function. The exact wave function is a Gaussian type function (hermite polynomial). We can improve our result by using a Gaussian type trial wave function. </h4>"
   ]
  }
 ],
 "metadata": {
  "kernelspec": {
   "display_name": "py39",
   "language": "python",
   "name": "python3"
  },
  "language_info": {
   "codemirror_mode": {
    "name": "ipython",
    "version": 3
   },
   "file_extension": ".py",
   "mimetype": "text/x-python",
   "name": "python",
   "nbconvert_exporter": "python",
   "pygments_lexer": "ipython3",
   "version": "3.9.18"
  }
 },
 "nbformat": 4,
 "nbformat_minor": 2
}
